{
  "nbformat": 4,
  "nbformat_minor": 0,
  "metadata": {
    "colab": {
      "provenance": []
    },
    "kernelspec": {
      "name": "python3",
      "display_name": "Python 3"
    },
    "language_info": {
      "name": "python"
    }
  },
  "cells": [
    {
      "cell_type": "code",
      "execution_count": 134,
      "metadata": {
        "id": "YKaUtRw2EndZ"
      },
      "outputs": [],
      "source": [
        "#Importing libraries\n",
        "import numpy as np\n",
        "import pandas as pd\n",
        "from datetime import datetime"
      ]
    },
    {
      "cell_type": "code",
      "source": [
        "#loading data\n",
        "data=pd.read_csv('train.csv')"
      ],
      "metadata": {
        "id": "moK67CMFFeOS"
      },
      "execution_count": 136,
      "outputs": []
    },
    {
      "cell_type": "code",
      "source": [
        "data.head()"
      ],
      "metadata": {
        "colab": {
          "base_uri": "https://localhost:8080/",
          "height": 417
        },
        "id": "Zmrhx0sPFoC3",
        "outputId": "e2b55571-9e81-43fe-f483-1a25596c5a64"
      },
      "execution_count": 121,
      "outputs": [
        {
          "output_type": "execute_result",
          "data": {
            "text/plain": [
              "   Unnamed: 0                              Name    Location  Year  \\\n",
              "0           1  Hyundai Creta 1.6 CRDi SX Option        Pune  2015   \n",
              "1           2                      Honda Jazz V     Chennai  2011   \n",
              "2           3                 Maruti Ertiga VDI     Chennai  2012   \n",
              "3           4   Audi A4 New 2.0 TDI Multitronic  Coimbatore  2013   \n",
              "4           6            Nissan Micra Diesel XV      Jaipur  2013   \n",
              "\n",
              "   Kilometers_Driven Fuel_Type Transmission Owner_Type     Mileage   Engine  \\\n",
              "0              41000    Diesel       Manual      First  19.67 kmpl  1582 CC   \n",
              "1              46000    Petrol       Manual      First    13 km/kg  1199 CC   \n",
              "2              87000    Diesel       Manual      First  20.77 kmpl  1248 CC   \n",
              "3              40670    Diesel    Automatic     Second   15.2 kmpl  1968 CC   \n",
              "4              86999    Diesel       Manual      First  23.08 kmpl  1461 CC   \n",
              "\n",
              "       Power  Seats  New_Price  Price  \n",
              "0  126.2 bhp    5.0        NaN  12.50  \n",
              "1   88.7 bhp    5.0  8.61 Lakh   4.50  \n",
              "2  88.76 bhp    7.0        NaN   6.00  \n",
              "3  140.8 bhp    5.0        NaN  17.74  \n",
              "4   63.1 bhp    5.0        NaN   3.50  "
            ],
            "text/html": [
              "\n",
              "  <div id=\"df-aad60ef4-c683-4385-832d-1055658c9540\" class=\"colab-df-container\">\n",
              "    <div>\n",
              "<style scoped>\n",
              "    .dataframe tbody tr th:only-of-type {\n",
              "        vertical-align: middle;\n",
              "    }\n",
              "\n",
              "    .dataframe tbody tr th {\n",
              "        vertical-align: top;\n",
              "    }\n",
              "\n",
              "    .dataframe thead th {\n",
              "        text-align: right;\n",
              "    }\n",
              "</style>\n",
              "<table border=\"1\" class=\"dataframe\">\n",
              "  <thead>\n",
              "    <tr style=\"text-align: right;\">\n",
              "      <th></th>\n",
              "      <th>Unnamed: 0</th>\n",
              "      <th>Name</th>\n",
              "      <th>Location</th>\n",
              "      <th>Year</th>\n",
              "      <th>Kilometers_Driven</th>\n",
              "      <th>Fuel_Type</th>\n",
              "      <th>Transmission</th>\n",
              "      <th>Owner_Type</th>\n",
              "      <th>Mileage</th>\n",
              "      <th>Engine</th>\n",
              "      <th>Power</th>\n",
              "      <th>Seats</th>\n",
              "      <th>New_Price</th>\n",
              "      <th>Price</th>\n",
              "    </tr>\n",
              "  </thead>\n",
              "  <tbody>\n",
              "    <tr>\n",
              "      <th>0</th>\n",
              "      <td>1</td>\n",
              "      <td>Hyundai Creta 1.6 CRDi SX Option</td>\n",
              "      <td>Pune</td>\n",
              "      <td>2015</td>\n",
              "      <td>41000</td>\n",
              "      <td>Diesel</td>\n",
              "      <td>Manual</td>\n",
              "      <td>First</td>\n",
              "      <td>19.67 kmpl</td>\n",
              "      <td>1582 CC</td>\n",
              "      <td>126.2 bhp</td>\n",
              "      <td>5.0</td>\n",
              "      <td>NaN</td>\n",
              "      <td>12.50</td>\n",
              "    </tr>\n",
              "    <tr>\n",
              "      <th>1</th>\n",
              "      <td>2</td>\n",
              "      <td>Honda Jazz V</td>\n",
              "      <td>Chennai</td>\n",
              "      <td>2011</td>\n",
              "      <td>46000</td>\n",
              "      <td>Petrol</td>\n",
              "      <td>Manual</td>\n",
              "      <td>First</td>\n",
              "      <td>13 km/kg</td>\n",
              "      <td>1199 CC</td>\n",
              "      <td>88.7 bhp</td>\n",
              "      <td>5.0</td>\n",
              "      <td>8.61 Lakh</td>\n",
              "      <td>4.50</td>\n",
              "    </tr>\n",
              "    <tr>\n",
              "      <th>2</th>\n",
              "      <td>3</td>\n",
              "      <td>Maruti Ertiga VDI</td>\n",
              "      <td>Chennai</td>\n",
              "      <td>2012</td>\n",
              "      <td>87000</td>\n",
              "      <td>Diesel</td>\n",
              "      <td>Manual</td>\n",
              "      <td>First</td>\n",
              "      <td>20.77 kmpl</td>\n",
              "      <td>1248 CC</td>\n",
              "      <td>88.76 bhp</td>\n",
              "      <td>7.0</td>\n",
              "      <td>NaN</td>\n",
              "      <td>6.00</td>\n",
              "    </tr>\n",
              "    <tr>\n",
              "      <th>3</th>\n",
              "      <td>4</td>\n",
              "      <td>Audi A4 New 2.0 TDI Multitronic</td>\n",
              "      <td>Coimbatore</td>\n",
              "      <td>2013</td>\n",
              "      <td>40670</td>\n",
              "      <td>Diesel</td>\n",
              "      <td>Automatic</td>\n",
              "      <td>Second</td>\n",
              "      <td>15.2 kmpl</td>\n",
              "      <td>1968 CC</td>\n",
              "      <td>140.8 bhp</td>\n",
              "      <td>5.0</td>\n",
              "      <td>NaN</td>\n",
              "      <td>17.74</td>\n",
              "    </tr>\n",
              "    <tr>\n",
              "      <th>4</th>\n",
              "      <td>6</td>\n",
              "      <td>Nissan Micra Diesel XV</td>\n",
              "      <td>Jaipur</td>\n",
              "      <td>2013</td>\n",
              "      <td>86999</td>\n",
              "      <td>Diesel</td>\n",
              "      <td>Manual</td>\n",
              "      <td>First</td>\n",
              "      <td>23.08 kmpl</td>\n",
              "      <td>1461 CC</td>\n",
              "      <td>63.1 bhp</td>\n",
              "      <td>5.0</td>\n",
              "      <td>NaN</td>\n",
              "      <td>3.50</td>\n",
              "    </tr>\n",
              "  </tbody>\n",
              "</table>\n",
              "</div>\n",
              "    <div class=\"colab-df-buttons\">\n",
              "\n",
              "  <div class=\"colab-df-container\">\n",
              "    <button class=\"colab-df-convert\" onclick=\"convertToInteractive('df-aad60ef4-c683-4385-832d-1055658c9540')\"\n",
              "            title=\"Convert this dataframe to an interactive table.\"\n",
              "            style=\"display:none;\">\n",
              "\n",
              "  <svg xmlns=\"http://www.w3.org/2000/svg\" height=\"24px\" viewBox=\"0 -960 960 960\">\n",
              "    <path d=\"M120-120v-720h720v720H120Zm60-500h600v-160H180v160Zm220 220h160v-160H400v160Zm0 220h160v-160H400v160ZM180-400h160v-160H180v160Zm440 0h160v-160H620v160ZM180-180h160v-160H180v160Zm440 0h160v-160H620v160Z\"/>\n",
              "  </svg>\n",
              "    </button>\n",
              "\n",
              "  <style>\n",
              "    .colab-df-container {\n",
              "      display:flex;\n",
              "      gap: 12px;\n",
              "    }\n",
              "\n",
              "    .colab-df-convert {\n",
              "      background-color: #E8F0FE;\n",
              "      border: none;\n",
              "      border-radius: 50%;\n",
              "      cursor: pointer;\n",
              "      display: none;\n",
              "      fill: #1967D2;\n",
              "      height: 32px;\n",
              "      padding: 0 0 0 0;\n",
              "      width: 32px;\n",
              "    }\n",
              "\n",
              "    .colab-df-convert:hover {\n",
              "      background-color: #E2EBFA;\n",
              "      box-shadow: 0px 1px 2px rgba(60, 64, 67, 0.3), 0px 1px 3px 1px rgba(60, 64, 67, 0.15);\n",
              "      fill: #174EA6;\n",
              "    }\n",
              "\n",
              "    .colab-df-buttons div {\n",
              "      margin-bottom: 4px;\n",
              "    }\n",
              "\n",
              "    [theme=dark] .colab-df-convert {\n",
              "      background-color: #3B4455;\n",
              "      fill: #D2E3FC;\n",
              "    }\n",
              "\n",
              "    [theme=dark] .colab-df-convert:hover {\n",
              "      background-color: #434B5C;\n",
              "      box-shadow: 0px 1px 3px 1px rgba(0, 0, 0, 0.15);\n",
              "      filter: drop-shadow(0px 1px 2px rgba(0, 0, 0, 0.3));\n",
              "      fill: #FFFFFF;\n",
              "    }\n",
              "  </style>\n",
              "\n",
              "    <script>\n",
              "      const buttonEl =\n",
              "        document.querySelector('#df-aad60ef4-c683-4385-832d-1055658c9540 button.colab-df-convert');\n",
              "      buttonEl.style.display =\n",
              "        google.colab.kernel.accessAllowed ? 'block' : 'none';\n",
              "\n",
              "      async function convertToInteractive(key) {\n",
              "        const element = document.querySelector('#df-aad60ef4-c683-4385-832d-1055658c9540');\n",
              "        const dataTable =\n",
              "          await google.colab.kernel.invokeFunction('convertToInteractive',\n",
              "                                                    [key], {});\n",
              "        if (!dataTable) return;\n",
              "\n",
              "        const docLinkHtml = 'Like what you see? Visit the ' +\n",
              "          '<a target=\"_blank\" href=https://colab.research.google.com/notebooks/data_table.ipynb>data table notebook</a>'\n",
              "          + ' to learn more about interactive tables.';\n",
              "        element.innerHTML = '';\n",
              "        dataTable['output_type'] = 'display_data';\n",
              "        await google.colab.output.renderOutput(dataTable, element);\n",
              "        const docLink = document.createElement('div');\n",
              "        docLink.innerHTML = docLinkHtml;\n",
              "        element.appendChild(docLink);\n",
              "      }\n",
              "    </script>\n",
              "  </div>\n",
              "\n",
              "\n",
              "<div id=\"df-a2c007cc-7f32-490c-998d-c85da22d95eb\">\n",
              "  <button class=\"colab-df-quickchart\" onclick=\"quickchart('df-a2c007cc-7f32-490c-998d-c85da22d95eb')\"\n",
              "            title=\"Suggest charts\"\n",
              "            style=\"display:none;\">\n",
              "\n",
              "<svg xmlns=\"http://www.w3.org/2000/svg\" height=\"24px\"viewBox=\"0 0 24 24\"\n",
              "     width=\"24px\">\n",
              "    <g>\n",
              "        <path d=\"M19 3H5c-1.1 0-2 .9-2 2v14c0 1.1.9 2 2 2h14c1.1 0 2-.9 2-2V5c0-1.1-.9-2-2-2zM9 17H7v-7h2v7zm4 0h-2V7h2v10zm4 0h-2v-4h2v4z\"/>\n",
              "    </g>\n",
              "</svg>\n",
              "  </button>\n",
              "\n",
              "<style>\n",
              "  .colab-df-quickchart {\n",
              "      --bg-color: #E8F0FE;\n",
              "      --fill-color: #1967D2;\n",
              "      --hover-bg-color: #E2EBFA;\n",
              "      --hover-fill-color: #174EA6;\n",
              "      --disabled-fill-color: #AAA;\n",
              "      --disabled-bg-color: #DDD;\n",
              "  }\n",
              "\n",
              "  [theme=dark] .colab-df-quickchart {\n",
              "      --bg-color: #3B4455;\n",
              "      --fill-color: #D2E3FC;\n",
              "      --hover-bg-color: #434B5C;\n",
              "      --hover-fill-color: #FFFFFF;\n",
              "      --disabled-bg-color: #3B4455;\n",
              "      --disabled-fill-color: #666;\n",
              "  }\n",
              "\n",
              "  .colab-df-quickchart {\n",
              "    background-color: var(--bg-color);\n",
              "    border: none;\n",
              "    border-radius: 50%;\n",
              "    cursor: pointer;\n",
              "    display: none;\n",
              "    fill: var(--fill-color);\n",
              "    height: 32px;\n",
              "    padding: 0;\n",
              "    width: 32px;\n",
              "  }\n",
              "\n",
              "  .colab-df-quickchart:hover {\n",
              "    background-color: var(--hover-bg-color);\n",
              "    box-shadow: 0 1px 2px rgba(60, 64, 67, 0.3), 0 1px 3px 1px rgba(60, 64, 67, 0.15);\n",
              "    fill: var(--button-hover-fill-color);\n",
              "  }\n",
              "\n",
              "  .colab-df-quickchart-complete:disabled,\n",
              "  .colab-df-quickchart-complete:disabled:hover {\n",
              "    background-color: var(--disabled-bg-color);\n",
              "    fill: var(--disabled-fill-color);\n",
              "    box-shadow: none;\n",
              "  }\n",
              "\n",
              "  .colab-df-spinner {\n",
              "    border: 2px solid var(--fill-color);\n",
              "    border-color: transparent;\n",
              "    border-bottom-color: var(--fill-color);\n",
              "    animation:\n",
              "      spin 1s steps(1) infinite;\n",
              "  }\n",
              "\n",
              "  @keyframes spin {\n",
              "    0% {\n",
              "      border-color: transparent;\n",
              "      border-bottom-color: var(--fill-color);\n",
              "      border-left-color: var(--fill-color);\n",
              "    }\n",
              "    20% {\n",
              "      border-color: transparent;\n",
              "      border-left-color: var(--fill-color);\n",
              "      border-top-color: var(--fill-color);\n",
              "    }\n",
              "    30% {\n",
              "      border-color: transparent;\n",
              "      border-left-color: var(--fill-color);\n",
              "      border-top-color: var(--fill-color);\n",
              "      border-right-color: var(--fill-color);\n",
              "    }\n",
              "    40% {\n",
              "      border-color: transparent;\n",
              "      border-right-color: var(--fill-color);\n",
              "      border-top-color: var(--fill-color);\n",
              "    }\n",
              "    60% {\n",
              "      border-color: transparent;\n",
              "      border-right-color: var(--fill-color);\n",
              "    }\n",
              "    80% {\n",
              "      border-color: transparent;\n",
              "      border-right-color: var(--fill-color);\n",
              "      border-bottom-color: var(--fill-color);\n",
              "    }\n",
              "    90% {\n",
              "      border-color: transparent;\n",
              "      border-bottom-color: var(--fill-color);\n",
              "    }\n",
              "  }\n",
              "</style>\n",
              "\n",
              "  <script>\n",
              "    async function quickchart(key) {\n",
              "      const quickchartButtonEl =\n",
              "        document.querySelector('#' + key + ' button');\n",
              "      quickchartButtonEl.disabled = true;  // To prevent multiple clicks.\n",
              "      quickchartButtonEl.classList.add('colab-df-spinner');\n",
              "      try {\n",
              "        const charts = await google.colab.kernel.invokeFunction(\n",
              "            'suggestCharts', [key], {});\n",
              "      } catch (error) {\n",
              "        console.error('Error during call to suggestCharts:', error);\n",
              "      }\n",
              "      quickchartButtonEl.classList.remove('colab-df-spinner');\n",
              "      quickchartButtonEl.classList.add('colab-df-quickchart-complete');\n",
              "    }\n",
              "    (() => {\n",
              "      let quickchartButtonEl =\n",
              "        document.querySelector('#df-a2c007cc-7f32-490c-998d-c85da22d95eb button');\n",
              "      quickchartButtonEl.style.display =\n",
              "        google.colab.kernel.accessAllowed ? 'block' : 'none';\n",
              "    })();\n",
              "  </script>\n",
              "</div>\n",
              "\n",
              "    </div>\n",
              "  </div>\n"
            ],
            "application/vnd.google.colaboratory.intrinsic+json": {
              "type": "dataframe",
              "variable_name": "data",
              "summary": "{\n  \"name\": \"data\",\n  \"rows\": 5847,\n  \"fields\": [\n    {\n      \"column\": \"Unnamed: 0\",\n      \"properties\": {\n        \"dtype\": \"number\",\n        \"std\": 1736,\n        \"min\": 1,\n        \"max\": 6018,\n        \"num_unique_values\": 5847,\n        \"samples\": [\n          5259,\n          3413,\n          4365\n        ],\n        \"semantic_type\": \"\",\n        \"description\": \"\"\n      }\n    },\n    {\n      \"column\": \"Name\",\n      \"properties\": {\n        \"dtype\": \"category\",\n        \"num_unique_values\": 1804,\n        \"samples\": [\n          \"BMW 7 Series 2007-2012 750Li\",\n          \"Maruti Ertiga SHVS VDI\",\n          \"Mahindra XUV300 W8 Diesel\"\n        ],\n        \"semantic_type\": \"\",\n        \"description\": \"\"\n      }\n    },\n    {\n      \"column\": \"Location\",\n      \"properties\": {\n        \"dtype\": \"category\",\n        \"num_unique_values\": 11,\n        \"samples\": [\n          \"Kochi\",\n          \"Pune\",\n          \"Hyderabad\"\n        ],\n        \"semantic_type\": \"\",\n        \"description\": \"\"\n      }\n    },\n    {\n      \"column\": \"Year\",\n      \"properties\": {\n        \"dtype\": \"number\",\n        \"std\": 3,\n        \"min\": 1998,\n        \"max\": 2019,\n        \"num_unique_values\": 22,\n        \"samples\": [\n          2015,\n          2006,\n          2010\n        ],\n        \"semantic_type\": \"\",\n        \"description\": \"\"\n      }\n    },\n    {\n      \"column\": \"Kilometers_Driven\",\n      \"properties\": {\n        \"dtype\": \"number\",\n        \"std\": 92379,\n        \"min\": 171,\n        \"max\": 6500000,\n        \"num_unique_values\": 3019,\n        \"samples\": [\n          56075,\n          75421,\n          143275\n        ],\n        \"semantic_type\": \"\",\n        \"description\": \"\"\n      }\n    },\n    {\n      \"column\": \"Fuel_Type\",\n      \"properties\": {\n        \"dtype\": \"category\",\n        \"num_unique_values\": 3,\n        \"samples\": [\n          \"Diesel\",\n          \"Petrol\",\n          \"Electric\"\n        ],\n        \"semantic_type\": \"\",\n        \"description\": \"\"\n      }\n    },\n    {\n      \"column\": \"Transmission\",\n      \"properties\": {\n        \"dtype\": \"category\",\n        \"num_unique_values\": 2,\n        \"samples\": [\n          \"Automatic\",\n          \"Manual\"\n        ],\n        \"semantic_type\": \"\",\n        \"description\": \"\"\n      }\n    },\n    {\n      \"column\": \"Owner_Type\",\n      \"properties\": {\n        \"dtype\": \"category\",\n        \"num_unique_values\": 4,\n        \"samples\": [\n          \"Second\",\n          \"Third\"\n        ],\n        \"semantic_type\": \"\",\n        \"description\": \"\"\n      }\n    },\n    {\n      \"column\": \"Mileage\",\n      \"properties\": {\n        \"dtype\": \"category\",\n        \"num_unique_values\": 419,\n        \"samples\": [\n          \"18.16 kmpl\",\n          \"23.84 kmpl\"\n        ],\n        \"semantic_type\": \"\",\n        \"description\": \"\"\n      }\n    },\n    {\n      \"column\": \"Engine\",\n      \"properties\": {\n        \"dtype\": \"category\",\n        \"num_unique_values\": 140,\n        \"samples\": [\n          \"2495 CC\",\n          \"1794 CC\"\n        ],\n        \"semantic_type\": \"\",\n        \"description\": \"\"\n      }\n    },\n    {\n      \"column\": \"Power\",\n      \"properties\": {\n        \"dtype\": \"category\",\n        \"num_unique_values\": 361,\n        \"samples\": [\n          \"62.1 bhp\",\n          \"77 bhp\"\n        ],\n        \"semantic_type\": \"\",\n        \"description\": \"\"\n      }\n    },\n    {\n      \"column\": \"Seats\",\n      \"properties\": {\n        \"dtype\": \"number\",\n        \"std\": 0.8066681227182382,\n        \"min\": 2.0,\n        \"max\": 10.0,\n        \"num_unique_values\": 8,\n        \"samples\": [\n          7.0,\n          2.0\n        ],\n        \"semantic_type\": \"\",\n        \"description\": \"\"\n      }\n    },\n    {\n      \"column\": \"New_Price\",\n      \"properties\": {\n        \"dtype\": \"category\",\n        \"num_unique_values\": 534,\n        \"samples\": [\n          \"10.48 Lakh\",\n          \"14.1 Lakh\"\n        ],\n        \"semantic_type\": \"\",\n        \"description\": \"\"\n      }\n    },\n    {\n      \"column\": \"Price\",\n      \"properties\": {\n        \"dtype\": \"number\",\n        \"std\": 11.275965706808531,\n        \"min\": 0.44,\n        \"max\": 160.0,\n        \"num_unique_values\": 1366,\n        \"samples\": [\n          3.98,\n          3.78\n        ],\n        \"semantic_type\": \"\",\n        \"description\": \"\"\n      }\n    }\n  ]\n}"
            }
          },
          "metadata": {},
          "execution_count": 121
        }
      ]
    },
    {
      "cell_type": "markdown",
      "source": [
        "A)Look for the missing values in all the columns and either impute them (replace with mean,\n",
        "median, or mode) or drop them. Justify your action for this task."
      ],
      "metadata": {
        "id": "SA2yZvxjJLbT"
      }
    },
    {
      "cell_type": "code",
      "source": [
        "missing_percent = data.isnull().mean() * 100\n",
        "print(\"Percentage of missing values in each column:\")\n",
        "print(missing_percent)"
      ],
      "metadata": {
        "colab": {
          "base_uri": "https://localhost:8080/"
        },
        "id": "Op9D1khtR39B",
        "outputId": "3792484b-004e-4f16-bf0f-30410070951d"
      },
      "execution_count": 122,
      "outputs": [
        {
          "output_type": "stream",
          "name": "stdout",
          "text": [
            "Percentage of missing values in each column:\n",
            "Unnamed: 0            0.000000\n",
            "Name                  0.000000\n",
            "Location              0.000000\n",
            "Year                  0.000000\n",
            "Kilometers_Driven     0.000000\n",
            "Fuel_Type             0.000000\n",
            "Transmission          0.000000\n",
            "Owner_Type            0.000000\n",
            "Mileage               0.034206\n",
            "Engine                0.615700\n",
            "Power                 0.615700\n",
            "Seats                 0.649906\n",
            "New_Price            86.061228\n",
            "Price                 0.000000\n",
            "dtype: float64\n"
          ]
        }
      ]
    },
    {
      "cell_type": "code",
      "source": [
        "# Define functions for cleaning numeric columns and performing imputation\n",
        "def clean_and_convert(column):\n",
        "    # Remove non-numeric characters and convert to float\n",
        "    data[column] = data[column].replace('[^0-9.]', '', regex=True).astype(float)\n",
        "\n",
        "def impute_mean(column):\n",
        "    data[column] = data[column].fillna(data[column].mean())\n",
        "\n",
        "# Clean and convert columns with units to numeric format\n",
        "clean_and_convert('Mileage')\n",
        "clean_and_convert('Engine')\n",
        "clean_and_convert('Power')\n",
        "clean_and_convert('Seats')  # This might not need cleaning, but converting to float just in case\n",
        "\n",
        "# Apply mean imputation\n",
        "impute_mean('Mileage')\n",
        "impute_mean('Engine')\n",
        "impute_mean('Power')\n",
        "impute_mean('Seats')\n",
        "\n",
        "# Drop the New_Price column due to high percentage of missing values\n",
        "data = data.drop('New_Price', axis=1)\n",
        "\n",
        "# Check final missing values\n",
        "print(\"Missing values after processing:\")\n",
        "print(data.isnull().sum())\n"
      ],
      "metadata": {
        "colab": {
          "base_uri": "https://localhost:8080/"
        },
        "id": "OWaLrijjX2mC",
        "outputId": "cc0290e2-3a1c-452f-ea6a-5b6f5f57d779"
      },
      "execution_count": 123,
      "outputs": [
        {
          "output_type": "stream",
          "name": "stdout",
          "text": [
            "Missing values after processing:\n",
            "Unnamed: 0           0\n",
            "Name                 0\n",
            "Location             0\n",
            "Year                 0\n",
            "Kilometers_Driven    0\n",
            "Fuel_Type            0\n",
            "Transmission         0\n",
            "Owner_Type           0\n",
            "Mileage              0\n",
            "Engine               0\n",
            "Power                0\n",
            "Seats                0\n",
            "Price                0\n",
            "dtype: int64\n"
          ]
        }
      ]
    },
    {
      "cell_type": "markdown",
      "source": [
        "#Explination:\n",
        "Imputation (Mean): For Mileage, Engine, Power, and Seats, the missing value percentages are very low (all under 1%), so mean imputation maintains data integrity without introducing bias.\n",
        "\n",
        "Drop (New_Price): With over 86% missing values, New_Price doesn’t provide enough information to retain it in the analysis."
      ],
      "metadata": {
        "id": "u9di7PCnNTe1"
      }
    },
    {
      "cell_type": "markdown",
      "source": [
        "**B)**Remove the units from some of the attributes and only keep the numerical values (for\n",
        "example remove kmpl from “Mileage”, CC from “Engine”, bhp from “Power”, and lakh from\n",
        "“New_price”)."
      ],
      "metadata": {
        "id": "WSqMGYBcw5_h"
      }
    },
    {
      "cell_type": "code",
      "source": [
        "# Function to clean units and keep only numeric values\n",
        "def clean_units(column):\n",
        "    # Use regex to remove any non-numeric characters\n",
        "    data[column] = data[column].replace('[^0-9.]', '', regex=True).astype(float)\n",
        "\n",
        "# Apply the cleaning function to the specified columns\n",
        "clean_units('Mileage')\n",
        "clean_units('Engine')\n",
        "clean_units('Power')\n",
        "\n",
        "# Verify the result\n",
        "print(data[['Mileage', 'Engine', 'Power']].head())\n"
      ],
      "metadata": {
        "colab": {
          "base_uri": "https://localhost:8080/"
        },
        "id": "CCUTwCDYjdfv",
        "outputId": "a852d50f-0381-455e-cd1b-267fca69d35f"
      },
      "execution_count": 124,
      "outputs": [
        {
          "output_type": "stream",
          "name": "stdout",
          "text": [
            "   Mileage  Engine   Power\n",
            "0    19.67  1582.0  126.20\n",
            "1    13.00  1199.0   88.70\n",
            "2    20.77  1248.0   88.76\n",
            "3    15.20  1968.0  140.80\n",
            "4    23.08  1461.0   63.10\n"
          ]
        }
      ]
    },
    {
      "cell_type": "markdown",
      "source": [
        "C) Change the categorical variables (“Fuel_Type” and “Transmission”) into numerical one hot\n",
        "encoded value."
      ],
      "metadata": {
        "id": "JmDJaJTB1Y4Z"
      }
    },
    {
      "cell_type": "code",
      "source": [
        "# Apply one-hot encoding to the 'Fuel_Type' and 'Transmission' columns\n",
        "data = pd.get_dummies(data, columns=['Fuel_Type', 'Transmission'], drop_first=False)\n",
        "\n",
        "# Verify the result\n",
        "print(data.head())"
      ],
      "metadata": {
        "colab": {
          "base_uri": "https://localhost:8080/"
        },
        "id": "AQJFPEYtwV9F",
        "outputId": "e45a59fa-525b-4b81-b0d8-8602128616fc"
      },
      "execution_count": 125,
      "outputs": [
        {
          "output_type": "stream",
          "name": "stdout",
          "text": [
            "   Unnamed: 0                              Name    Location  Year  \\\n",
            "0           1  Hyundai Creta 1.6 CRDi SX Option        Pune  2015   \n",
            "1           2                      Honda Jazz V     Chennai  2011   \n",
            "2           3                 Maruti Ertiga VDI     Chennai  2012   \n",
            "3           4   Audi A4 New 2.0 TDI Multitronic  Coimbatore  2013   \n",
            "4           6            Nissan Micra Diesel XV      Jaipur  2013   \n",
            "\n",
            "   Kilometers_Driven Owner_Type  Mileage  Engine   Power  Seats  Price  \\\n",
            "0              41000      First    19.67  1582.0  126.20    5.0  12.50   \n",
            "1              46000      First    13.00  1199.0   88.70    5.0   4.50   \n",
            "2              87000      First    20.77  1248.0   88.76    7.0   6.00   \n",
            "3              40670     Second    15.20  1968.0  140.80    5.0  17.74   \n",
            "4              86999      First    23.08  1461.0   63.10    5.0   3.50   \n",
            "\n",
            "   Fuel_Type_Diesel  Fuel_Type_Electric  Fuel_Type_Petrol  \\\n",
            "0              True               False             False   \n",
            "1             False               False              True   \n",
            "2              True               False             False   \n",
            "3              True               False             False   \n",
            "4              True               False             False   \n",
            "\n",
            "   Transmission_Automatic  Transmission_Manual  \n",
            "0                   False                 True  \n",
            "1                   False                 True  \n",
            "2                   False                 True  \n",
            "3                    True                False  \n",
            "4                   False                 True  \n"
          ]
        }
      ]
    },
    {
      "cell_type": "markdown",
      "source": [
        "D)Create one more feature and add this column to the dataset (you can use mutate function in\n",
        "R for this). For example, you can calculate the current age of the car by subtracting “Year” value\n",
        "from the current year."
      ],
      "metadata": {
        "id": "6e2WfP3D2xUZ"
      }
    },
    {
      "cell_type": "code",
      "source": [
        "# Get the current year\n",
        "current_year = datetime.now().year\n",
        "\n",
        "# Calculate the age of the car and add it as a new column\n",
        "data['Car_Age'] = current_year - data['Year']\n",
        "\n",
        "# Verify the result\n",
        "print(data[['Year', 'Car_Age']].head())\n"
      ],
      "metadata": {
        "colab": {
          "base_uri": "https://localhost:8080/"
        },
        "id": "Aj3K8YHlz9JX",
        "outputId": "47043f4a-4811-4e1d-9e79-7a4e5a39919a"
      },
      "execution_count": 126,
      "outputs": [
        {
          "output_type": "stream",
          "name": "stdout",
          "text": [
            "   Year  Car_Age\n",
            "0  2015        9\n",
            "1  2011       13\n",
            "2  2012       12\n",
            "3  2013       11\n",
            "4  2013       11\n"
          ]
        }
      ]
    },
    {
      "cell_type": "markdown",
      "source": [
        "E) Perform select, filter, rename, mutate, arrange and summarize with group by operations (or\n",
        "their equivalent operations in python) on this dataset."
      ],
      "metadata": {
        "id": "yrmAXXCq8PKb"
      }
    },
    {
      "cell_type": "code",
      "source": [
        "# Select only the columns 'Name', 'Year', 'Kilometers_Driven', and 'Price'\n",
        "selected_data = data[['Name', 'Year', 'Kilometers_Driven', 'Price']]\n",
        "print(\"Selected Columns:\\n\", selected_data.head())"
      ],
      "metadata": {
        "colab": {
          "base_uri": "https://localhost:8080/"
        },
        "id": "9uWUR7wE8QDa",
        "outputId": "f3a1655b-1186-455b-91e9-89206f94fdeb"
      },
      "execution_count": 127,
      "outputs": [
        {
          "output_type": "stream",
          "name": "stdout",
          "text": [
            "Selected Columns:\n",
            "                                Name  Year  Kilometers_Driven  Price\n",
            "0  Hyundai Creta 1.6 CRDi SX Option  2015              41000  12.50\n",
            "1                      Honda Jazz V  2011              46000   4.50\n",
            "2                 Maruti Ertiga VDI  2012              87000   6.00\n",
            "3   Audi A4 New 2.0 TDI Multitronic  2013              40670  17.74\n",
            "4            Nissan Micra Diesel XV  2013              86999   3.50\n"
          ]
        }
      ]
    },
    {
      "cell_type": "code",
      "source": [
        "# Filter rows where Price is greater than 5 lakhs and the car is Diesel\n",
        "filtered_data = data[(data['Price'] > 5) & (data['Fuel_Type_Diesel'] == 1)]\n",
        "\n",
        "print(\"Filtered Data:\\n\", filtered_data.head())"
      ],
      "metadata": {
        "colab": {
          "base_uri": "https://localhost:8080/"
        },
        "id": "hdbw9OWi8z-X",
        "outputId": "0590752b-5f00-40bd-eb3b-27a9ce1ce5f2"
      },
      "execution_count": 128,
      "outputs": [
        {
          "output_type": "stream",
          "name": "stdout",
          "text": [
            "Filtered Data:\n",
            "    Unnamed: 0                                 Name    Location  Year  \\\n",
            "0           1     Hyundai Creta 1.6 CRDi SX Option        Pune  2015   \n",
            "2           3                    Maruti Ertiga VDI     Chennai  2012   \n",
            "3           4      Audi A4 New 2.0 TDI Multitronic  Coimbatore  2013   \n",
            "5           7    Toyota Innova Crysta 2.8 GX AT 8S      Mumbai  2016   \n",
            "6           8  Volkswagen Vento Diesel Comfortline        Pune  2013   \n",
            "\n",
            "   Kilometers_Driven Owner_Type  Mileage  Engine   Power  Seats  Price  \\\n",
            "0              41000      First    19.67  1582.0  126.20    5.0  12.50   \n",
            "2              87000      First    20.77  1248.0   88.76    7.0   6.00   \n",
            "3              40670     Second    15.20  1968.0  140.80    5.0  17.74   \n",
            "5              36000      First    11.36  2755.0  171.50    8.0  17.50   \n",
            "6              64430      First    20.54  1598.0  103.60    5.0   5.20   \n",
            "\n",
            "   Fuel_Type_Diesel  Fuel_Type_Electric  Fuel_Type_Petrol  \\\n",
            "0              True               False             False   \n",
            "2              True               False             False   \n",
            "3              True               False             False   \n",
            "5              True               False             False   \n",
            "6              True               False             False   \n",
            "\n",
            "   Transmission_Automatic  Transmission_Manual  Car_Age  \n",
            "0                   False                 True        9  \n",
            "2                   False                 True       12  \n",
            "3                    True                False       11  \n",
            "5                    True                False        8  \n",
            "6                   False                 True       11  \n"
          ]
        }
      ]
    },
    {
      "cell_type": "code",
      "source": [
        "# Rename the column 'Kilometers_Driven' to 'KM_Driven'\n",
        "renamed_data = data.rename(columns={'Kilometers_Driven': 'KM_Driven'})\n",
        "print(\"Renamed Data:\\n\", renamed_data.head())"
      ],
      "metadata": {
        "id": "98YXORU89IaE",
        "colab": {
          "base_uri": "https://localhost:8080/"
        },
        "outputId": "dca94193-68c6-4e87-b945-55a487d2c50b"
      },
      "execution_count": 129,
      "outputs": [
        {
          "output_type": "stream",
          "name": "stdout",
          "text": [
            "Renamed Data:\n",
            "    Unnamed: 0                              Name    Location  Year  KM_Driven  \\\n",
            "0           1  Hyundai Creta 1.6 CRDi SX Option        Pune  2015      41000   \n",
            "1           2                      Honda Jazz V     Chennai  2011      46000   \n",
            "2           3                 Maruti Ertiga VDI     Chennai  2012      87000   \n",
            "3           4   Audi A4 New 2.0 TDI Multitronic  Coimbatore  2013      40670   \n",
            "4           6            Nissan Micra Diesel XV      Jaipur  2013      86999   \n",
            "\n",
            "  Owner_Type  Mileage  Engine   Power  Seats  Price  Fuel_Type_Diesel  \\\n",
            "0      First    19.67  1582.0  126.20    5.0  12.50              True   \n",
            "1      First    13.00  1199.0   88.70    5.0   4.50             False   \n",
            "2      First    20.77  1248.0   88.76    7.0   6.00              True   \n",
            "3     Second    15.20  1968.0  140.80    5.0  17.74              True   \n",
            "4      First    23.08  1461.0   63.10    5.0   3.50              True   \n",
            "\n",
            "   Fuel_Type_Electric  Fuel_Type_Petrol  Transmission_Automatic  \\\n",
            "0               False             False                   False   \n",
            "1               False              True                   False   \n",
            "2               False             False                   False   \n",
            "3               False             False                    True   \n",
            "4               False             False                   False   \n",
            "\n",
            "   Transmission_Manual  Car_Age  \n",
            "0                 True        9  \n",
            "1                 True       13  \n",
            "2                 True       12  \n",
            "3                False       11  \n",
            "4                 True       11  \n"
          ]
        }
      ]
    },
    {
      "cell_type": "markdown",
      "source": [
        "In R, mutate() is used to create new columns. In Pandas, you can directly create a new column."
      ],
      "metadata": {
        "id": "_pCkmKnpERer"
      }
    },
    {
      "cell_type": "code",
      "source": [
        "# Create a new column 'Car_Age' based on the 'Year' column\n",
        "data['Car_Age'] = current_year - data['Year']\n",
        "print(\"Data with Car_Age:\\n\", data[['Year', 'Car_Age']].head())"
      ],
      "metadata": {
        "id": "Iq9KH1Ki9QHX",
        "colab": {
          "base_uri": "https://localhost:8080/"
        },
        "outputId": "8e17802b-6ed2-4985-dc66-9541eac347e4"
      },
      "execution_count": 130,
      "outputs": [
        {
          "output_type": "stream",
          "name": "stdout",
          "text": [
            "Data with Car_Age:\n",
            "    Year  Car_Age\n",
            "0  2015        9\n",
            "1  2011       13\n",
            "2  2012       12\n",
            "3  2013       11\n",
            "4  2013       11\n"
          ]
        }
      ]
    },
    {
      "cell_type": "markdown",
      "source": [
        "In R, arrange() is used for sorting. In Pandas, you can use sort_values()."
      ],
      "metadata": {
        "id": "b4DNXZd-L_bH"
      }
    },
    {
      "cell_type": "code",
      "source": [
        "# Sort the data by 'Price' in descending order\n",
        "arranged_data = data.sort_values(by='Price', ascending=False)\n",
        "print(\"Arranged Data (sorted by Price):\\n\", arranged_data.head())"
      ],
      "metadata": {
        "id": "X334JHFUEimx",
        "colab": {
          "base_uri": "https://localhost:8080/"
        },
        "outputId": "fe2a8397-3916-4548-972a-222b9e46c587"
      },
      "execution_count": 131,
      "outputs": [
        {
          "output_type": "stream",
          "name": "stdout",
          "text": [
            "Arranged Data (sorted by Price):\n",
            "       Unnamed: 0                                         Name    Location  \\\n",
            "3952        4079  Land Rover Range Rover 3.0 Diesel LWB Vogue   Hyderabad   \n",
            "5620        5781                   Lamborghini Gallardo Coupe       Delhi   \n",
            "5752        5919                       Jaguar F Type 5.0 V8 S   Hyderabad   \n",
            "1457        1505              Land Rover Range Rover Sport SE       Kochi   \n",
            "1917        1974                           BMW 7 Series 740Li  Coimbatore   \n",
            "\n",
            "      Year  Kilometers_Driven Owner_Type  Mileage  Engine  Power  Seats  \\\n",
            "3952  2017              25000      First    13.33  2993.0  255.0    5.0   \n",
            "5620  2011               6500      Third     6.40  5204.0  560.0    2.0   \n",
            "5752  2015               8000      First    12.50  5000.0  488.1    2.0   \n",
            "1457  2019              26013      First    12.65  2993.0  255.0    5.0   \n",
            "1917  2018              28060      First    12.05  2979.0  320.0    5.0   \n",
            "\n",
            "       Price  Fuel_Type_Diesel  Fuel_Type_Electric  Fuel_Type_Petrol  \\\n",
            "3952  160.00              True               False             False   \n",
            "5620  120.00             False               False              True   \n",
            "5752  100.00             False               False              True   \n",
            "1457   97.07              True               False             False   \n",
            "1917   93.67             False               False              True   \n",
            "\n",
            "      Transmission_Automatic  Transmission_Manual  Car_Age  \n",
            "3952                    True                False        7  \n",
            "5620                    True                False       13  \n",
            "5752                    True                False        9  \n",
            "1457                    True                False        5  \n",
            "1917                    True                False        6  \n"
          ]
        }
      ]
    },
    {
      "cell_type": "markdown",
      "source": [
        "In R, group_by() and summarize() are used together to aggregate data. In Pandas, you can use groupby() with aggregation functions like mean()."
      ],
      "metadata": {
        "id": "LQEFcZTTMNbH"
      }
    },
    {
      "cell_type": "code",
      "source": [
        "# Group by 'Fuel_Type' and calculate the average 'Price' and total 'Kilometers_Driven'\n",
        "summary_data = data.groupby('Fuel_Type_Diesel').agg({\n",
        "    'Price': 'mean',\n",
        "    'Kilometers_Driven': 'sum'\n",
        "}).reset_index()\n",
        "\n",
        "# Rename aggregated columns for clarity\n",
        "summary_data = summary_data.rename(columns={'Price': 'Avg_Price', 'Kilometers_Driven': 'Total_KM_Driven'})\n",
        "print(\"Summarized Data (grouped by Fuel_Type):\\n\", summary_data)"
      ],
      "metadata": {
        "colab": {
          "base_uri": "https://localhost:8080/"
        },
        "id": "Il29PPUuMCyY",
        "outputId": "ee452f64-d670-47c9-adab-0dfe6ea96fe7"
      },
      "execution_count": 132,
      "outputs": [
        {
          "output_type": "stream",
          "name": "stdout",
          "text": [
            "Summarized Data (grouped by Fuel_Type):\n",
            "    Fuel_Type_Diesel  Avg_Price  Total_KM_Driven\n",
            "0             False   5.761988        128269656\n",
            "1              True  12.960686        213254401\n"
          ]
        }
      ]
    }
  ]
}